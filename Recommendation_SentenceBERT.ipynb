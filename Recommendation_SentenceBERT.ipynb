{
 "cells": [
  {
   "cell_type": "markdown",
   "metadata": {
    "colab_type": "text",
    "id": "view-in-github"
   },
   "source": [
    "<a href=\"https://colab.research.google.com/github/sdhilip200/Content-Based-Recommendation---Good-Reads-data/blob/master/Recommendation_Word2Vec.ipynb\" target=\"_parent\"><img src=\"https://colab.research.google.com/assets/colab-badge.svg\" alt=\"Open In Colab\"/></a>"
   ]
  },
  {
   "cell_type": "code",
   "execution_count": 98,
   "metadata": {
    "colab": {
     "base_uri": "https://localhost:8080/",
     "height": 51
    },
    "colab_type": "code",
    "id": "MFpf99rpjaTA",
    "outputId": "86c4bb45-1090-4e0f-ec42-b2af00ed183f"
   },
   "outputs": [],
   "source": [
    "# Importing necessary libraries\n",
    "import pandas as pd\n",
    "import numpy as np\n",
    "import nltk\n",
    "import os\n",
    "import pickle\n",
    "\n",
    "import matplotlib.pyplot as plt\n",
    "%matplotlib inline\n",
    "\n",
    "from matplotlib import pyplot\n",
    "\n",
    "from sentence_transformers import SentenceTransformer, util\n",
    "import torch"
   ]
  },
  {
   "cell_type": "code",
   "execution_count": 69,
   "metadata": {
    "colab": {},
    "colab_type": "code",
    "id": "vHfkyO_vjdVA"
   },
   "outputs": [],
   "source": [
    "# Reading data from the genre, name, and description columns\n",
    "movies = pd.read_csv(\"imdb_movies.csv\", usecols = ['names','genre', 'overview'], low_memory = True, on_bad_lines=\"skip\")\n",
    "books = pd.read_csv(\"books.csv\", usecols = ['title','categories', 'description'], low_memory = True, on_bad_lines = \"skip\")\n",
    "books.columns = ['names','genre', 'overview']"
   ]
  },
  {
   "cell_type": "code",
   "execution_count": 83,
   "metadata": {
    "scrolled": true
   },
   "outputs": [
    {
     "data": {
      "text/html": [
       "<div>\n",
       "<style scoped>\n",
       "    .dataframe tbody tr th:only-of-type {\n",
       "        vertical-align: middle;\n",
       "    }\n",
       "\n",
       "    .dataframe tbody tr th {\n",
       "        vertical-align: top;\n",
       "    }\n",
       "\n",
       "    .dataframe thead th {\n",
       "        text-align: right;\n",
       "    }\n",
       "</style>\n",
       "<table border=\"1\" class=\"dataframe\">\n",
       "  <thead>\n",
       "    <tr style=\"text-align: right;\">\n",
       "      <th></th>\n",
       "      <th>names</th>\n",
       "      <th>genre</th>\n",
       "      <th>overview</th>\n",
       "    </tr>\n",
       "  </thead>\n",
       "  <tbody>\n",
       "    <tr>\n",
       "      <th>0</th>\n",
       "      <td>Creed III</td>\n",
       "      <td>Drama, Action</td>\n",
       "      <td>After dominating the boxing world, Adonis Cree...</td>\n",
       "    </tr>\n",
       "    <tr>\n",
       "      <th>1</th>\n",
       "      <td>Avatar: The Way of Water</td>\n",
       "      <td>Science Fiction, Adventure, Action</td>\n",
       "      <td>Set more than a decade after the events of the...</td>\n",
       "    </tr>\n",
       "    <tr>\n",
       "      <th>2</th>\n",
       "      <td>The Super Mario Bros. Movie</td>\n",
       "      <td>Animation, Adventure, Family, Fantasy, Comedy</td>\n",
       "      <td>While working underground to fix a water main,...</td>\n",
       "    </tr>\n",
       "    <tr>\n",
       "      <th>3</th>\n",
       "      <td>Mummies</td>\n",
       "      <td>Animation, Comedy, Family, Adventure, Fantasy</td>\n",
       "      <td>Through a series of unfortunate events, three ...</td>\n",
       "    </tr>\n",
       "    <tr>\n",
       "      <th>4</th>\n",
       "      <td>Supercell</td>\n",
       "      <td>Action</td>\n",
       "      <td>Good-hearted teenager William always lived in ...</td>\n",
       "    </tr>\n",
       "  </tbody>\n",
       "</table>\n",
       "</div>"
      ],
      "text/plain": [
       "                         names                                          genre  \\\n",
       "0                    Creed III                                  Drama, Action   \n",
       "1     Avatar: The Way of Water             Science Fiction, Adventure, Action   \n",
       "2  The Super Mario Bros. Movie  Animation, Adventure, Family, Fantasy, Comedy   \n",
       "3                      Mummies  Animation, Comedy, Family, Adventure, Fantasy   \n",
       "4                    Supercell                                         Action   \n",
       "\n",
       "                                            overview  \n",
       "0  After dominating the boxing world, Adonis Cree...  \n",
       "1  Set more than a decade after the events of the...  \n",
       "2  While working underground to fix a water main,...  \n",
       "3  Through a series of unfortunate events, three ...  \n",
       "4  Good-hearted teenager William always lived in ...  "
      ]
     },
     "execution_count": 83,
     "metadata": {},
     "output_type": "execute_result"
    }
   ],
   "source": [
    "# Concatenate the film and book dataframes\n",
    "df = pd.concat([movies, books], ignore_index=True)\n",
    "df.head(5)"
   ]
  },
  {
   "cell_type": "code",
   "execution_count": 84,
   "metadata": {},
   "outputs": [
    {
     "data": {
      "text/html": [
       "<div>\n",
       "<style scoped>\n",
       "    .dataframe tbody tr th:only-of-type {\n",
       "        vertical-align: middle;\n",
       "    }\n",
       "\n",
       "    .dataframe tbody tr th {\n",
       "        vertical-align: top;\n",
       "    }\n",
       "\n",
       "    .dataframe thead th {\n",
       "        text-align: right;\n",
       "    }\n",
       "</style>\n",
       "<table border=\"1\" class=\"dataframe\">\n",
       "  <thead>\n",
       "    <tr style=\"text-align: right;\">\n",
       "      <th></th>\n",
       "      <th>names</th>\n",
       "      <th>overview</th>\n",
       "    </tr>\n",
       "  </thead>\n",
       "  <tbody>\n",
       "    <tr>\n",
       "      <th>0</th>\n",
       "      <td>Creed III</td>\n",
       "      <td>Drama, Action: After dominating the boxing wor...</td>\n",
       "    </tr>\n",
       "    <tr>\n",
       "      <th>1</th>\n",
       "      <td>Avatar: The Way of Water</td>\n",
       "      <td>Science Fiction, Adventure, Action: Set more t...</td>\n",
       "    </tr>\n",
       "    <tr>\n",
       "      <th>2</th>\n",
       "      <td>The Super Mario Bros. Movie</td>\n",
       "      <td>Animation, Adventure, Family, Fantasy, Comedy:...</td>\n",
       "    </tr>\n",
       "    <tr>\n",
       "      <th>3</th>\n",
       "      <td>Mummies</td>\n",
       "      <td>Animation, Comedy, Family, Adventure, Fantasy:...</td>\n",
       "    </tr>\n",
       "    <tr>\n",
       "      <th>4</th>\n",
       "      <td>Supercell</td>\n",
       "      <td>Action: Good-hearted teenager William always l...</td>\n",
       "    </tr>\n",
       "  </tbody>\n",
       "</table>\n",
       "</div>"
      ],
      "text/plain": [
       "                         names  \\\n",
       "0                    Creed III   \n",
       "1     Avatar: The Way of Water   \n",
       "2  The Super Mario Bros. Movie   \n",
       "3                      Mummies   \n",
       "4                    Supercell   \n",
       "\n",
       "                                            overview  \n",
       "0  Drama, Action: After dominating the boxing wor...  \n",
       "1  Science Fiction, Adventure, Action: Set more t...  \n",
       "2  Animation, Adventure, Family, Fantasy, Comedy:...  \n",
       "3  Animation, Comedy, Family, Adventure, Fantasy:...  \n",
       "4  Action: Good-hearted teenager William always l...  "
      ]
     },
     "execution_count": 84,
     "metadata": {},
     "output_type": "execute_result"
    }
   ],
   "source": [
    "# Combine the genre and overview information\n",
    "df['overview'] = df.genre + \": \" + df.overview\n",
    "del df['genre']\n",
    "df.dropna(inplace=True)\n",
    "df.head(5)"
   ]
  },
  {
   "cell_type": "code",
   "execution_count": 86,
   "metadata": {},
   "outputs": [],
   "source": [
    "# Get list of strings as input\n",
    "corpus = df['overview'].to_list()\n",
    "titles = df['names'].to_list()\n",
    "\n",
    "# Convert to format required by the embedder\n",
    "catalogue = list(zip(corpus, titles))"
   ]
  },
  {
   "cell_type": "code",
   "execution_count": 88,
   "metadata": {},
   "outputs": [
    {
     "data": {
      "text/plain": [
       "(\"Thriller,\\xa0Drama: It's the final weeks of the most consequential presidential election in history. America is poised to elect either its first female president or its first viable independent candidate. Reporting history as it's made, an idealistic young journalist teams up with her idol, legendary journalist Nick Booker, to uncover a conspiracy that places the fate of the election, and the country, in their hands.\",\n",
       " 'The Independent')"
      ]
     },
     "execution_count": 88,
     "metadata": {},
     "output_type": "execute_result"
    }
   ],
   "source": [
    "catalogue[305]"
   ]
  },
  {
   "cell_type": "markdown",
   "metadata": {
    "colab_type": "text",
    "id": "-2eogBr7FsSb"
   },
   "source": [
    "# SBERT embeddings"
   ]
  },
  {
   "cell_type": "code",
   "execution_count": 90,
   "metadata": {
    "colab": {},
    "colab_type": "code",
    "id": "6fqQbzLrwZiF"
   },
   "outputs": [],
   "source": [
    "embedder = SentenceTransformer('all-MiniLM-L12-v2')"
   ]
  },
  {
   "cell_type": "code",
   "execution_count": 97,
   "metadata": {
    "collapsed": true
   },
   "outputs": [
    {
     "name": "stdout",
     "output_type": "stream",
     "text": [
      "Encoding the corpus. This might take a while\n"
     ]
    },
    {
     "data": {
      "application/vnd.jupyter.widget-view+json": {
       "model_id": "dd46f25757d6487ab09475e9be4e7b73",
       "version_major": 2,
       "version_minor": 0
      },
      "text/plain": [
       "Batches:   0%|          | 0/519 [00:00<?, ?it/s]"
      ]
     },
     "metadata": {},
     "output_type": "display_data"
    },
    {
     "name": "stdout",
     "output_type": "stream",
     "text": [
      "Storing file on disc\n"
     ]
    },
    {
     "ename": "NameError",
     "evalue": "name 'pickle' is not defined",
     "output_type": "error",
     "traceback": [
      "\u001b[1;31m---------------------------------------------------------------------------\u001b[0m",
      "\u001b[1;31mNameError\u001b[0m                                 Traceback (most recent call last)",
      "Cell \u001b[1;32mIn[97], line 9\u001b[0m\n\u001b[0;32m      7\u001b[0m     \u001b[38;5;28mprint\u001b[39m(\u001b[38;5;124m\"\u001b[39m\u001b[38;5;124mStoring file on disc\u001b[39m\u001b[38;5;124m\"\u001b[39m)\n\u001b[0;32m      8\u001b[0m     \u001b[38;5;28;01mwith\u001b[39;00m \u001b[38;5;28mopen\u001b[39m(embedding_cache_path, \u001b[38;5;124m\"\u001b[39m\u001b[38;5;124mwb\u001b[39m\u001b[38;5;124m\"\u001b[39m) \u001b[38;5;28;01mas\u001b[39;00m fOut:\n\u001b[1;32m----> 9\u001b[0m         pickle\u001b[38;5;241m.\u001b[39mdump({\u001b[38;5;124m'\u001b[39m\u001b[38;5;124mcorpus\u001b[39m\u001b[38;5;124m'\u001b[39m: corpus, \u001b[38;5;124m'\u001b[39m\u001b[38;5;124membeddings\u001b[39m\u001b[38;5;124m'\u001b[39m: corpus_embeddings}, fOut)\n\u001b[0;32m     11\u001b[0m \u001b[38;5;28;01melse\u001b[39;00m:\n\u001b[0;32m     12\u001b[0m     \u001b[38;5;28mprint\u001b[39m(\u001b[38;5;124m\"\u001b[39m\u001b[38;5;124mLoading pre-computed embeddings from disc\u001b[39m\u001b[38;5;124m\"\u001b[39m)\n",
      "\u001b[1;31mNameError\u001b[0m: name 'pickle' is not defined"
     ]
    }
   ],
   "source": [
    "embedding_cache_path = \"stored_embed\"\n",
    "if not os.path.exists(embedding_cache_path):\n",
    "    # read your corpus etc\n",
    "    print(\"Encoding the corpus. This might take a while\")\n",
    "    corpus_embeddings = embedder.encode(corpus, show_progress_bar=True, convert_to_tensor=True)\n",
    "\n",
    "    print(\"Storing file on disc\")\n",
    "    with open(embedding_cache_path, \"wb\") as fOut:\n",
    "        pickle.dump({'corpus': corpus, 'embeddings': corpus_embeddings}, fOut)\n",
    "\n",
    "else:\n",
    "    print(\"Loading pre-computed embeddings from disc\")\n",
    "    with open(embedding_cache_path, \"rb\") as fIn:\n",
    "        cache_data = pickle.load(fIn)\n",
    "        corpus = cache_data['corpus']\n",
    "        corpus_embeddings = cache_data['embeddings']"
   ]
  },
  {
   "cell_type": "code",
   "execution_count": 100,
   "metadata": {
    "colab": {},
    "colab_type": "code",
    "id": "j3kZjho3-B-K"
   },
   "outputs": [],
   "source": [
    "# Recommending the Top K similar books or movies\n",
    "\n",
    "def recommendations(query, top_k = 3):\n",
    "    '''\n",
    "    Input: query as a single-item list\n",
    "    Finds k nearest descriptions\n",
    "    Output: titles for k nearest descriptions\n",
    "    \n",
    "    '''\n",
    "    #Compute embeddings for the query\n",
    "    query_embeddings = embedder.encode(query, convert_to_tensor=True)\n",
    "    \n",
    "    #Compute cosine-similarities for the query with each description\n",
    "    cosine_scores = util.cos_sim(query_embeddings, corpus_embeddings)\n",
    "    scores = cosine_scores[0].tolist() #get a list of scores\n",
    "\n",
    "    #Find the pairs with the highest cosine similarity scores\n",
    "    pairs = [{'index': [i], 'score': scores[i]} for i in range(len(scores)-1)]\n",
    "\n",
    "    #Sort scores in decreasing order\n",
    "    pairs = sorted(pairs, key=lambda x: x['score'], reverse=True)\n",
    "\n",
    "    for pair in pairs[0:top_k]:\n",
    "        i = pair['index'][0]\n",
    "        print(\"Title: {} \\nDescription: {}\\n Score: {:.4f}\".format(catalogue[i][1], catalogue[i][0], pair['score']))"
   ]
  },
  {
   "cell_type": "markdown",
   "metadata": {},
   "source": [
    "## Run the function"
   ]
  },
  {
   "cell_type": "code",
   "execution_count": 101,
   "metadata": {},
   "outputs": [
    {
     "name": "stdout",
     "output_type": "stream",
     "text": [
      "Enter the plot of the film or book you are trying to remember:A man and a woman survive a plane crash in the mountains.\n"
     ]
    }
   ],
   "source": [
    "# Get plot description from the user\n",
    "query = input(\"Enter the plot of the film or book you are trying to remember: \")"
   ]
  },
  {
   "cell_type": "code",
   "execution_count": 102,
   "metadata": {},
   "outputs": [
    {
     "name": "stdout",
     "output_type": "stream",
     "text": [
      "Title: Survive \n",
      "Description: Thriller, Drama, Adventure: When their plane crashes on a remote snow-covered mountain, Jane and Paul have to fight for their lives as the only remaining survivors. Together they embark on a harrowing journey out of the wilderness.\n",
      " Score: 0.5107\n",
      "Title: The Mountain Between Us \n",
      "Description: Drama, Adventure, Romance: Stranded on a mountain after a tragic plane crash, two strangers must work together to endure the extreme elements of the remote, snow-covered terrain. When they realize help is not coming, they embark on a perilous journey across hundreds of miles of wilderness, pushing each other to survive and discovering their inner strength.\n",
      " Score: 0.5076\n",
      "Title: Horizon Line \n",
      "Description: Thriller: A couple flying on a small plane to attend a tropical island wedding must fight for their lives after their pilot suffers a heart attack.\n",
      " Score: 0.4906\n"
     ]
    }
   ],
   "source": [
    "recommendations(query) "
   ]
  }
 ],
 "metadata": {
  "accelerator": "GPU",
  "colab": {
   "authorship_tag": "ABX9TyM54kSBzET7YOjNkm2GK7HF",
   "collapsed_sections": [],
   "include_colab_link": true,
   "name": "Recommendation_Word2Vec.ipynb",
   "provenance": []
  },
  "kernelspec": {
   "display_name": "Python 3 (ipykernel)",
   "language": "python",
   "name": "python3"
  },
  "language_info": {
   "codemirror_mode": {
    "name": "ipython",
    "version": 3
   },
   "file_extension": ".py",
   "mimetype": "text/x-python",
   "name": "python",
   "nbconvert_exporter": "python",
   "pygments_lexer": "ipython3",
   "version": "3.11.5"
  }
 },
 "nbformat": 4,
 "nbformat_minor": 1
}
