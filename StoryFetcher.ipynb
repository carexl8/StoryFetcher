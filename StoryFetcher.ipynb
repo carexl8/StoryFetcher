{
 "cells": [
  {
   "cell_type": "markdown",
   "metadata": {
    "colab_type": "text",
    "id": "view-in-github"
   },
   "source": [
    "<a href=\"https://colab.research.google.com/github/sdhilip200/Content-Based-Recommendation---Good-Reads-data/blob/master/Recommendation_Word2Vec.ipynb\" target=\"_parent\"><img src=\"https://colab.research.google.com/assets/colab-badge.svg\" alt=\"Open In Colab\"/></a>"
   ]
  },
  {
   "cell_type": "code",
   "execution_count": 5,
   "metadata": {
    "colab": {
     "base_uri": "https://localhost:8080/",
     "height": 51
    },
    "colab_type": "code",
    "id": "MFpf99rpjaTA",
    "outputId": "86c4bb45-1090-4e0f-ec42-b2af00ed183f"
   },
   "outputs": [],
   "source": [
    "# Importing necessary libraries\n",
    "import pandas as pd\n",
    "import numpy as np\n",
    "import nltk\n",
    "import os\n",
    "import pickle\n",
    "\n",
    "import matplotlib.pyplot as plt\n",
    "%matplotlib inline\n",
    "\n",
    "from matplotlib import pyplot\n",
    "\n",
    "from sentence_transformers import SentenceTransformer, util\n",
    "import torch"
   ]
  },
  {
   "cell_type": "code",
   "execution_count": 6,
   "metadata": {
    "colab": {},
    "colab_type": "code",
    "id": "vHfkyO_vjdVA"
   },
   "outputs": [],
   "source": [
    "# Reading data from the genre, name, and description columns\n",
    "movies = pd.read_csv(\"imdb_movies.csv\", usecols = ['names','genre', 'overview'], low_memory = True, on_bad_lines=\"skip\")\n",
    "books = pd.read_csv(\"books.csv\", usecols = ['title','categories', 'description'], low_memory = True, on_bad_lines = \"skip\")\n",
    "books.columns = ['names','genre', 'overview']"
   ]
  },
  {
   "cell_type": "code",
   "execution_count": 10,
   "metadata": {},
   "outputs": [],
   "source": [
    "movies[\"medium\"] = \"Film\"\n",
    "books[\"medium\"] = \"Book\""
   ]
  },
  {
   "cell_type": "code",
   "execution_count": 11,
   "metadata": {
    "scrolled": true
   },
   "outputs": [
    {
     "data": {
      "text/html": [
       "<div>\n",
       "<style scoped>\n",
       "    .dataframe tbody tr th:only-of-type {\n",
       "        vertical-align: middle;\n",
       "    }\n",
       "\n",
       "    .dataframe tbody tr th {\n",
       "        vertical-align: top;\n",
       "    }\n",
       "\n",
       "    .dataframe thead th {\n",
       "        text-align: right;\n",
       "    }\n",
       "</style>\n",
       "<table border=\"1\" class=\"dataframe\">\n",
       "  <thead>\n",
       "    <tr style=\"text-align: right;\">\n",
       "      <th></th>\n",
       "      <th>names</th>\n",
       "      <th>genre</th>\n",
       "      <th>overview</th>\n",
       "      <th>medium</th>\n",
       "    </tr>\n",
       "  </thead>\n",
       "  <tbody>\n",
       "    <tr>\n",
       "      <th>0</th>\n",
       "      <td>Creed III</td>\n",
       "      <td>Drama, Action</td>\n",
       "      <td>After dominating the boxing world, Adonis Cree...</td>\n",
       "      <td>Film</td>\n",
       "    </tr>\n",
       "    <tr>\n",
       "      <th>1</th>\n",
       "      <td>Avatar: The Way of Water</td>\n",
       "      <td>Science Fiction, Adventure, Action</td>\n",
       "      <td>Set more than a decade after the events of the...</td>\n",
       "      <td>Film</td>\n",
       "    </tr>\n",
       "    <tr>\n",
       "      <th>2</th>\n",
       "      <td>The Super Mario Bros. Movie</td>\n",
       "      <td>Animation, Adventure, Family, Fantasy, Comedy</td>\n",
       "      <td>While working underground to fix a water main,...</td>\n",
       "      <td>Film</td>\n",
       "    </tr>\n",
       "    <tr>\n",
       "      <th>3</th>\n",
       "      <td>Mummies</td>\n",
       "      <td>Animation, Comedy, Family, Adventure, Fantasy</td>\n",
       "      <td>Through a series of unfortunate events, three ...</td>\n",
       "      <td>Film</td>\n",
       "    </tr>\n",
       "    <tr>\n",
       "      <th>4</th>\n",
       "      <td>Supercell</td>\n",
       "      <td>Action</td>\n",
       "      <td>Good-hearted teenager William always lived in ...</td>\n",
       "      <td>Film</td>\n",
       "    </tr>\n",
       "  </tbody>\n",
       "</table>\n",
       "</div>"
      ],
      "text/plain": [
       "                         names                                          genre  \\\n",
       "0                    Creed III                                  Drama, Action   \n",
       "1     Avatar: The Way of Water             Science Fiction, Adventure, Action   \n",
       "2  The Super Mario Bros. Movie  Animation, Adventure, Family, Fantasy, Comedy   \n",
       "3                      Mummies  Animation, Comedy, Family, Adventure, Fantasy   \n",
       "4                    Supercell                                         Action   \n",
       "\n",
       "                                            overview medium  \n",
       "0  After dominating the boxing world, Adonis Cree...   Film  \n",
       "1  Set more than a decade after the events of the...   Film  \n",
       "2  While working underground to fix a water main,...   Film  \n",
       "3  Through a series of unfortunate events, three ...   Film  \n",
       "4  Good-hearted teenager William always lived in ...   Film  "
      ]
     },
     "execution_count": 11,
     "metadata": {},
     "output_type": "execute_result"
    }
   ],
   "source": [
    "# Concatenate the film and book dataframes\n",
    "df = pd.concat([movies, books], ignore_index=True)\n",
    "df.head(5)"
   ]
  },
  {
   "cell_type": "code",
   "execution_count": 12,
   "metadata": {},
   "outputs": [
    {
     "data": {
      "text/html": [
       "<div>\n",
       "<style scoped>\n",
       "    .dataframe tbody tr th:only-of-type {\n",
       "        vertical-align: middle;\n",
       "    }\n",
       "\n",
       "    .dataframe tbody tr th {\n",
       "        vertical-align: top;\n",
       "    }\n",
       "\n",
       "    .dataframe thead th {\n",
       "        text-align: right;\n",
       "    }\n",
       "</style>\n",
       "<table border=\"1\" class=\"dataframe\">\n",
       "  <thead>\n",
       "    <tr style=\"text-align: right;\">\n",
       "      <th></th>\n",
       "      <th>names</th>\n",
       "      <th>overview</th>\n",
       "      <th>medium</th>\n",
       "    </tr>\n",
       "  </thead>\n",
       "  <tbody>\n",
       "    <tr>\n",
       "      <th>0</th>\n",
       "      <td>Creed III</td>\n",
       "      <td>Drama, Action: After dominating the boxing wor...</td>\n",
       "      <td>Film</td>\n",
       "    </tr>\n",
       "    <tr>\n",
       "      <th>1</th>\n",
       "      <td>Avatar: The Way of Water</td>\n",
       "      <td>Science Fiction, Adventure, Action: Set more t...</td>\n",
       "      <td>Film</td>\n",
       "    </tr>\n",
       "    <tr>\n",
       "      <th>2</th>\n",
       "      <td>The Super Mario Bros. Movie</td>\n",
       "      <td>Animation, Adventure, Family, Fantasy, Comedy:...</td>\n",
       "      <td>Film</td>\n",
       "    </tr>\n",
       "    <tr>\n",
       "      <th>3</th>\n",
       "      <td>Mummies</td>\n",
       "      <td>Animation, Comedy, Family, Adventure, Fantasy:...</td>\n",
       "      <td>Film</td>\n",
       "    </tr>\n",
       "    <tr>\n",
       "      <th>4</th>\n",
       "      <td>Supercell</td>\n",
       "      <td>Action: Good-hearted teenager William always l...</td>\n",
       "      <td>Film</td>\n",
       "    </tr>\n",
       "  </tbody>\n",
       "</table>\n",
       "</div>"
      ],
      "text/plain": [
       "                         names  \\\n",
       "0                    Creed III   \n",
       "1     Avatar: The Way of Water   \n",
       "2  The Super Mario Bros. Movie   \n",
       "3                      Mummies   \n",
       "4                    Supercell   \n",
       "\n",
       "                                            overview medium  \n",
       "0  Drama, Action: After dominating the boxing wor...   Film  \n",
       "1  Science Fiction, Adventure, Action: Set more t...   Film  \n",
       "2  Animation, Adventure, Family, Fantasy, Comedy:...   Film  \n",
       "3  Animation, Comedy, Family, Adventure, Fantasy:...   Film  \n",
       "4  Action: Good-hearted teenager William always l...   Film  "
      ]
     },
     "execution_count": 12,
     "metadata": {},
     "output_type": "execute_result"
    }
   ],
   "source": [
    "# Combine the genre and overview information\n",
    "df['overview'] = df.genre + \": \" + df.overview\n",
    "del df['genre']\n",
    "df.dropna(inplace=True)\n",
    "df.head(5)"
   ]
  },
  {
   "cell_type": "code",
   "execution_count": 13,
   "metadata": {},
   "outputs": [],
   "source": [
    "# Get list of strings as input\n",
    "corpus = df['overview'].to_list()\n",
    "titles = df['names'].to_list()\n",
    "medium = df['medium'].to_list()\n",
    "\n",
    "# Convert to format required by the embedder\n",
    "catalogue = list(zip(corpus, titles, medium))"
   ]
  },
  {
   "cell_type": "code",
   "execution_count": 14,
   "metadata": {},
   "outputs": [
    {
     "data": {
      "text/plain": [
       "(\"Thriller,\\xa0Drama: It's the final weeks of the most consequential presidential election in history. America is poised to elect either its first female president or its first viable independent candidate. Reporting history as it's made, an idealistic young journalist teams up with her idol, legendary journalist Nick Booker, to uncover a conspiracy that places the fate of the election, and the country, in their hands.\",\n",
       " 'The Independent',\n",
       " 'Film')"
      ]
     },
     "execution_count": 14,
     "metadata": {},
     "output_type": "execute_result"
    }
   ],
   "source": [
    "catalogue[305]"
   ]
  },
  {
   "cell_type": "markdown",
   "metadata": {
    "colab_type": "text",
    "id": "-2eogBr7FsSb"
   },
   "source": [
    "# SBERT embeddings"
   ]
  },
  {
   "cell_type": "code",
   "execution_count": 23,
   "metadata": {},
   "outputs": [],
   "source": [
    "# Function to get embeddings or load existing ones\n",
    "def get_embeds(path, model ='all-MiniLM-L12-v2'):\n",
    "    if not os.path.exists(path):\n",
    "        embedder = SentenceTransformer(model)\n",
    "        print(\"Encoding the corpus. This might take a while\")\n",
    "        corpus_embeddings = embedder.encode(corpus, show_progress_bar=True, convert_to_tensor=True)\n",
    "\n",
    "        print(\"Storing file on disc\")\n",
    "        with open(path, \"wb\") as fOut:\n",
    "            pickle.dump({'corpus': corpus, 'embeddings': corpus_embeddings}, fOut)\n",
    "    else:\n",
    "        print(\"Loading pre-computed embeddings from disc\")\n",
    "        with open(path, \"rb\") as fIn:\n",
    "            cache_data = pickle.load(fIn)\n",
    "            corpus = cache_data['corpus'] # TODO: Do we even need this?\n",
    "            corpus_embeddings = cache_data['embeddings']\n",
    "    return corpus_embeddings"
   ]
  },
  {
   "cell_type": "code",
   "execution_count": 30,
   "metadata": {
    "colab": {},
    "colab_type": "code",
    "id": "j3kZjho3-B-K"
   },
   "outputs": [],
   "source": [
    "# Recommending the Top K similar books or movies\n",
    "\n",
    "def recommendations(query, corpus_embeddings, top_k = 3,model ='all-MiniLM-L12-v2'):\n",
    "    '''\n",
    "    Input: query as a single-item list\n",
    "    Finds k nearest descriptions\n",
    "    Output: titles for k nearest descriptions\n",
    "    \n",
    "    '''\n",
    "    embedder = SentenceTransformer(model)\n",
    "    #Compute embeddings for the query\n",
    "    query_embeddings = embedder.encode(query, convert_to_tensor=True)\n",
    "    \n",
    "    #Compute cosine-similarities for the query with each description\n",
    "    cosine_scores = util.cos_sim(query_embeddings, corpus_embeddings)\n",
    "    scores = cosine_scores[0].tolist() #get a list of scores\n",
    "\n",
    "    #Find the pairs with the highest cosine similarity scores\n",
    "    pairs = [{'index': [i], 'score': scores[i]} for i in range(len(scores)-1)]\n",
    "\n",
    "    #Sort scores in decreasing order\n",
    "    pairs = sorted(pairs, key=lambda x: x['score'], reverse=True)\n",
    "\n",
    "    for pair in pairs[0:top_k]:\n",
    "        i = pair['index'][0]\n",
    "        print(\"Title: {}\\nMedium : {}\\nDescription: {}\\nScore: {:.4f}\\n\".format(catalogue[i][1], catalogue[i][2], catalogue[i][0], pair['score']))"
   ]
  },
  {
   "cell_type": "markdown",
   "metadata": {},
   "source": [
    "## Run the function"
   ]
  },
  {
   "cell_type": "code",
   "execution_count": null,
   "metadata": {},
   "outputs": [],
   "source": [
    "# Get plot description from the user\n",
    "query = input(\"Enter the plot of the film or book you are trying to remember: \")"
   ]
  },
  {
   "cell_type": "code",
   "execution_count": 31,
   "metadata": {},
   "outputs": [
    {
     "name": "stdout",
     "output_type": "stream",
     "text": [
      "Loading pre-computed embeddings from disc\n",
      "Title: Breakout\n",
      "Medium : Film\n",
      "Description: Action, Thriller: A pair of criminals try to track down the kids who witnessed them commit a murder in the woods.\n",
      "Score: 0.5460\n",
      "\n",
      "Title: The Monster\n",
      "Medium : Film\n",
      "Description: Horror, Drama: A mother and her 10-year old daughter are trapped in a forest. There is something in this forest. Something unlike anything they have heard before. Something that lurks in the darkness and it’s coming after them.\n",
      "Score: 0.5140\n",
      "\n",
      "Title: The Mimic\n",
      "Medium : Film\n",
      "Description: Horror, Thriller: The mother of a missing child takes in a lost girl she finds in the woods, but soon begins to wonder if she is even human.\n",
      "Score: 0.4876\n",
      "\n"
     ]
    }
   ],
   "source": [
    "# Define path for stored embeddings\n",
    "path = \"stored_embed\"\n",
    "corpus_embeddings = get_embeds(path)\n",
    "recommendations(query, corpus_embeddings) "
   ]
  }
 ],
 "metadata": {
  "accelerator": "GPU",
  "colab": {
   "authorship_tag": "ABX9TyM54kSBzET7YOjNkm2GK7HF",
   "collapsed_sections": [],
   "include_colab_link": true,
   "name": "Recommendation_Word2Vec.ipynb",
   "provenance": []
  },
  "kernelspec": {
   "display_name": "Python 3 (ipykernel)",
   "language": "python",
   "name": "python3"
  },
  "language_info": {
   "codemirror_mode": {
    "name": "ipython",
    "version": 3
   },
   "file_extension": ".py",
   "mimetype": "text/x-python",
   "name": "python",
   "nbconvert_exporter": "python",
   "pygments_lexer": "ipython3",
   "version": "3.11.5"
  }
 },
 "nbformat": 4,
 "nbformat_minor": 1
}
